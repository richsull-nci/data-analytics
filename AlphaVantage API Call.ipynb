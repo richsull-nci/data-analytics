{
 "cells": [
  {
   "cell_type": "code",
   "execution_count": 2,
   "id": "96bf214f",
   "metadata": {},
   "outputs": [
    {
     "name": "stdout",
     "output_type": "stream",
     "text": [
      "['time', 'open', 'high', 'low', 'close', 'volume']\n",
      "['', '', '', '', '', '']\n"
     ]
    }
   ],
   "source": [
    "import csv\n",
    "import requests\n",
    "\n",
    "# API key = ZD5HLQWA9EGV79JN\n",
    "\n",
    "CSV_URL = 'https://www.alphavantage.co/query?function=TIME_SERIES_INTRADAY_EXTENDED&symbol=TWTR&interval=5min&apikey=ZD5HLQWA9EGV79JN'\n",
    "\n",
    "with requests.Session() as session:\n",
    "    download = session.get(CSV_URL)\n",
    "    decoded_content = download.content.decode('utf-8')\n",
    "    cr = csv.reader(decoded_content.splitlines(), delimiter=',')\n",
    "    tlist = list(cr)\n",
    "    for row in tlist:\n",
    "        print(row)"
   ]
  },
  {
   "cell_type": "code",
   "execution_count": 4,
   "id": "a3262dc9",
   "metadata": {},
   "outputs": [],
   "source": [
    "import csv\n",
    "import json\n",
    "import requests\n",
    "\n",
    "# API key = ZD5HLQWA9EGV79JN\n",
    "\n",
    "CSV_URL = 'https://www.alphavantage.co/query?function=TIME_SERIES_INTRADAY_EXTENDED&symbol=TWTR&interval=5min&apikey=ZD5HLQWA9EGV79JN'\n",
    "\n",
    "# Write to .CSV\n",
    "f = open('newfile.csv', \"w+\", newline='')\n",
    "\n",
    "## API Results\n",
    "with requests.Session() as session:\n",
    "    download = session.get(CSV_URL)\n",
    "    decoded_content = download.content.decode('utf-8')\n",
    "    cr = csv.reader(decoded_content.splitlines(), delimiter=',')\n",
    "    tlist = list(cr)\n",
    "    for row in tlist:\n",
    "        # print(row)\n",
    "        write = csv.writer(f) \n",
    "        write.writerows(tlist) \n",
    "\n",
    "#with f:     \n",
    "#    write = csv.writer(f) \n",
    "#    write.writerows(tlist) \n"
   ]
  },
  {
   "cell_type": "code",
   "execution_count": null,
   "id": "7c4443db",
   "metadata": {},
   "outputs": [],
   "source": []
  },
  {
   "cell_type": "code",
   "execution_count": null,
   "id": "8eb7508c",
   "metadata": {},
   "outputs": [],
   "source": []
  }
 ],
 "metadata": {
  "kernelspec": {
   "display_name": "Python 3 (ipykernel)",
   "language": "python",
   "name": "python3"
  },
  "language_info": {
   "codemirror_mode": {
    "name": "ipython",
    "version": 3
   },
   "file_extension": ".py",
   "mimetype": "text/x-python",
   "name": "python",
   "nbconvert_exporter": "python",
   "pygments_lexer": "ipython3",
   "version": "3.9.13"
  }
 },
 "nbformat": 4,
 "nbformat_minor": 5
}
