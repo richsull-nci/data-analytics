{
 "cells": [
  {
   "cell_type": "code",
   "execution_count": 1,
   "id": "5d5a243f",
   "metadata": {},
   "outputs": [],
   "source": [
    "import pandas\n",
    "import pandas_datareader.data as web\n",
    "import datetime as dt"
   ]
  },
  {
   "cell_type": "code",
   "execution_count": 2,
   "id": "6a77344f",
   "metadata": {},
   "outputs": [],
   "source": [
    "start = dt.datetime(2022,1,1)\n",
    "end = dt.datetime(2022,11,18)\n",
    "ticker = 'AAPL'"
   ]
  },
  {
   "cell_type": "code",
   "execution_count": 3,
   "id": "c9213491",
   "metadata": {},
   "outputs": [
    {
     "name": "stdout",
     "output_type": "stream",
     "text": [
      "                  High         Low        Open       Close       Volume  \\\n",
      "Date                                                                      \n",
      "2022-01-03  182.880005  177.710007  177.830002  182.009995  104487900.0   \n",
      "2022-01-04  182.940002  179.119995  182.630005  179.699997   99310400.0   \n",
      "2022-01-05  180.169998  174.639999  179.610001  174.919998   94537600.0   \n",
      "2022-01-06  175.300003  171.639999  172.699997  172.000000   96904000.0   \n",
      "2022-01-07  174.139999  171.029999  172.889999  172.169998   86709100.0   \n",
      "\n",
      "             Adj Close  \n",
      "Date                    \n",
      "2022-01-03  180.959747  \n",
      "2022-01-04  178.663071  \n",
      "2022-01-05  173.910660  \n",
      "2022-01-06  171.007507  \n",
      "2022-01-07  171.176544  \n",
      "                  High         Low        Open       Close      Volume  \\\n",
      "Date                                                                     \n",
      "2022-11-14  150.279999  147.429993  148.970001  148.279999  73374100.0   \n",
      "2022-11-15  153.589996  148.559998  152.220001  150.039993  89868300.0   \n",
      "2022-11-16  149.869995  147.289993  149.130005  148.789993  64218300.0   \n",
      "2022-11-17  151.479996  146.149994  146.429993  150.720001  80389400.0   \n",
      "2022-11-18  152.699997  149.970001  152.309998  151.289993  74794600.0   \n",
      "\n",
      "             Adj Close  \n",
      "Date                    \n",
      "2022-11-14  148.279999  \n",
      "2022-11-15  150.039993  \n",
      "2022-11-16  148.789993  \n",
      "2022-11-17  150.720001  \n",
      "2022-11-18  151.289993  \n"
     ]
    }
   ],
   "source": [
    "data = web.DataReader(ticker, 'yahoo', start, end)\n",
    "print(data.head(5))\n",
    "print(data.tail(5))\n",
    "data.to_csv('{}.csv'.format(ticker))"
   ]
  },
  {
   "cell_type": "code",
   "execution_count": 4,
   "id": "27ab141b",
   "metadata": {},
   "outputs": [],
   "source": [
    "start = dt.datetime(2022,1,1)\n",
    "end = dt.datetime(2022,11,16)\n",
    "tickers = ['TWTR','TSLA','GOOGL']"
   ]
  },
  {
   "cell_type": "code",
   "execution_count": 12,
   "id": "0d04ecf8",
   "metadata": {},
   "outputs": [
    {
     "name": "stdout",
     "output_type": "stream",
     "text": [
      "Attributes  Adj Close                              Close              \\\n",
      "Symbols          TWTR        TSLA       GOOGL       TWTR        TSLA   \n",
      "Date                                                                   \n",
      "2022-01-03  42.660000  399.926666  144.991501  42.660000  399.926666   \n",
      "2022-01-04  40.849998  383.196655  144.399506  40.849998  383.196655   \n",
      "2022-01-05  39.500000  362.706665  137.774994  39.500000  362.706665   \n",
      "2022-01-06  39.590000  354.899994  137.747498  39.590000  354.899994   \n",
      "2022-01-07  39.669998  342.320007  137.016998  39.669998  342.320007   \n",
      "\n",
      "Attributes                   High                                Low  \\\n",
      "Symbols          GOOGL       TWTR        TSLA       GOOGL       TWTR   \n",
      "Date                                                                   \n",
      "2022-01-03  144.991501  43.689999  400.356659  145.850998  42.480000   \n",
      "2022-01-04  144.399506  42.970001  402.666656  146.485001  40.360001   \n",
      "2022-01-05  137.774994  41.875401  390.113342  144.499496  39.450001   \n",
      "2022-01-06  137.747498  40.439999  362.666656  139.940002  38.689999   \n",
      "2022-01-07  137.016998  40.689999  360.309998  138.448502  39.320000   \n",
      "\n",
      "Attributes                               Open                          \\\n",
      "Symbols           TSLA       GOOGL       TWTR        TSLA       GOOGL   \n",
      "Date                                                                    \n",
      "2022-01-03  378.679993  143.712997  43.500000  382.583344  145.054993   \n",
      "2022-01-04  374.350006  143.716507  42.849998  396.516663  145.395996   \n",
      "2022-01-05  360.336670  137.688004  40.799999  382.216675  144.419998   \n",
      "2022-01-06  340.166656  136.558502  39.500000  359.000000  136.998505   \n",
      "2022-01-07  336.666656  135.766495  39.650002  360.123322  138.145493   \n",
      "\n",
      "Attributes      Volume                           \n",
      "Symbols           TWTR         TSLA       GOOGL  \n",
      "Date                                             \n",
      "2022-01-03  14447453.0  103931400.0  28646000.0  \n",
      "2022-01-04  21422442.0  100248300.0  28400000.0  \n",
      "2022-01-05  22008559.0   80119800.0  54618000.0  \n",
      "2022-01-06  16613358.0   90336600.0  37348000.0  \n",
      "2022-01-07  14669913.0   84164700.0  29760000.0  \n",
      "Attributes Adj Close                        Close                        High  \\\n",
      "Symbols         TWTR        TSLA      GOOGL  TWTR        TSLA      GOOGL TWTR   \n",
      "Date                                                                            \n",
      "2022-11-10       NaN  190.720001  93.940002   NaN  190.720001  93.940002  NaN   \n",
      "2022-11-11       NaN  195.970001  96.410004   NaN  195.970001  96.410004  NaN   \n",
      "2022-11-14       NaN  190.949997  95.699997   NaN  190.949997  95.699997  NaN   \n",
      "2022-11-15       NaN  194.419998  98.440002   NaN  194.419998  98.440002  NaN   \n",
      "2022-11-16       NaN  186.919998  98.849998   NaN  186.919998  98.849998  NaN   \n",
      "\n",
      "Attributes                          Low                        Open  \\\n",
      "Symbols           TSLA       GOOGL TWTR        TSLA      GOOGL TWTR   \n",
      "Date                                                                  \n",
      "2022-11-10  191.000000   94.389999  NaN  180.029999  91.610001  NaN   \n",
      "2022-11-11  196.520004   96.930000  NaN  182.589996  93.919998  NaN   \n",
      "2022-11-14  195.729996   96.790001  NaN  186.339996  94.510002  NaN   \n",
      "2022-11-15  200.820007  100.139999  NaN  192.059998  96.709999  NaN   \n",
      "2022-11-16  192.570007   99.639999  NaN  185.660004  97.639999  NaN   \n",
      "\n",
      "Attributes                        Volume                           \n",
      "Symbols           TSLA      GOOGL   TWTR         TSLA       GOOGL  \n",
      "Date                                                               \n",
      "2022-11-10  189.899994  92.250000    NaN  132703000.0  51620100.0  \n",
      "2022-11-11  186.000000  94.690002    NaN  114229200.0  33072500.0  \n",
      "2022-11-14  192.770004  95.089996    NaN   92226600.0  30179500.0  \n",
      "2022-11-15  195.880005  98.260002    NaN   91293800.0  41640800.0  \n",
      "2022-11-16  191.509995  97.900002    NaN   66567600.0  29105200.0  \n"
     ]
    }
   ],
   "source": [
    "for ticker in tickers:\n",
    "    data = web.DataReader(tickers, 'yahoo', start, end)\n",
    "\n",
    "print(data.head(5))\n",
    "print(data.tail(5))\n",
    "data.to_csv('{}.csv'.format(ticker))"
   ]
  },
  {
   "cell_type": "code",
   "execution_count": null,
   "id": "e4c05c80",
   "metadata": {},
   "outputs": [],
   "source": []
  }
 ],
 "metadata": {
  "kernelspec": {
   "display_name": "Python 3 (ipykernel)",
   "language": "python",
   "name": "python3"
  },
  "language_info": {
   "codemirror_mode": {
    "name": "ipython",
    "version": 3
   },
   "file_extension": ".py",
   "mimetype": "text/x-python",
   "name": "python",
   "nbconvert_exporter": "python",
   "pygments_lexer": "ipython3",
   "version": "3.9.13"
  }
 },
 "nbformat": 4,
 "nbformat_minor": 5
}
